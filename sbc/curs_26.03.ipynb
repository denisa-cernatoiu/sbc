{
 "cells": [
  {
   "cell_type": "code",
   "execution_count": 16,
   "id": "3414114a-afdb-4d25-a93d-220adbf904f5",
   "metadata": {},
   "outputs": [],
   "source": [
    "#decision tree\n",
    "import numpy as np\n",
    "import pandas as pd\n",
    "from sklearn.tree import DecisionTreeClassifier\n",
    "from sklearn.model_selection import cross_val_score"
   ]
  },
  {
   "cell_type": "code",
   "execution_count": 17,
   "id": "ed58946f-a70c-4eb2-8964-e3f830056b25",
   "metadata": {},
   "outputs": [],
   "source": [
    "floricele = pd.read_csv('iris.csv')\n",
    "X = floricele.drop('variety', axis = 1)\n",
    "y = floricele['variety']"
   ]
  },
  {
   "cell_type": "code",
   "execution_count": 18,
   "id": "95ad7d34-3d4c-46c5-9749-4974e8cc822d",
   "metadata": {},
   "outputs": [
    {
     "name": "stdout",
     "output_type": "stream",
     "text": [
      "Scorurile pentru IG(Entropy): [0.96666667 0.96666667 0.9        0.93333333 1.        ]\n"
     ]
    }
   ],
   "source": [
    "# sarim peste LabelEncoding - il face sklearn automat\n",
    "model_entropy = DecisionTreeClassifier(criterion = 'entropy', random_state = 42)\n",
    "scoruri_entropie = cross_val_score(model_entropy, X, y, cv = 5) # 5 repr. nr. de \"cutiute\" in care se aseaza datele\n",
    "print(f'Scorurile pentru IG(Entropy): {scoruri_entropie}')"
   ]
  },
  {
   "cell_type": "code",
   "execution_count": 19,
   "id": "ff2f9ea7-be70-48f2-87b7-c8ac22a1d7ae",
   "metadata": {},
   "outputs": [
    {
     "name": "stdout",
     "output_type": "stream",
     "text": [
      "media scorurilor prntru IG: 0.9533333333333334\n"
     ]
    }
   ],
   "source": [
    "print(f'media scorurilor prntru IG: {sum(scoruri_entropie) / len(scoruri_entropie)}')"
   ]
  },
  {
   "cell_type": "code",
   "execution_count": 20,
   "id": "73098fbf-d7a4-4c60-ba6a-866ad6a778b0",
   "metadata": {},
   "outputs": [
    {
     "name": "stdout",
     "output_type": "stream",
     "text": [
      "media scorurilor prntru IG: 0.9533333333333334\n"
     ]
    }
   ],
   "source": [
    "print(f'media scorurilor prntru IG: {np.mean(scoruri_entropie)}')"
   ]
  },
  {
   "cell_type": "code",
   "execution_count": 23,
   "id": "27ec8389-2cdf-43c8-a3cc-a2ec3f44fb05",
   "metadata": {},
   "outputs": [
    {
     "name": "stdout",
     "output_type": "stream",
     "text": [
      "Scorurile pentru IG(gini): [0.97368421 0.94736842 0.94594595 0.97297297]\n"
     ]
    }
   ],
   "source": [
    "model_gini = DecisionTreeClassifier(criterion = 'gini', random_state = 42)\n",
    "scoruri_gini = cross_val_score(model_gini, X, y, cv = 4) # 5 repr. nr. de \"cutiute\" in care se aseaza datele\n",
    "print(f'Scorurile pentru IG(gini): {scoruri_gini}')"
   ]
  },
  {
   "cell_type": "code",
   "execution_count": 24,
   "id": "e92b6058-7f26-4d07-89f8-8fc09e6132e5",
   "metadata": {},
   "outputs": [
    {
     "name": "stdout",
     "output_type": "stream",
     "text": [
      "media scorurilor prntru IG: 0.9599928876244666\n"
     ]
    }
   ],
   "source": [
    "print(f'media scorurilor prntru IG: {np.mean(scoruri_gini)}')"
   ]
  },
  {
   "cell_type": "code",
   "execution_count": null,
   "id": "29309d4f-301d-4a35-a3ab-4683531b1653",
   "metadata": {},
   "outputs": [],
   "source": []
  }
 ],
 "metadata": {
  "kernelspec": {
   "display_name": "Python 3 (ipykernel)",
   "language": "python",
   "name": "python3"
  },
  "language_info": {
   "codemirror_mode": {
    "name": "ipython",
    "version": 3
   },
   "file_extension": ".py",
   "mimetype": "text/x-python",
   "name": "python",
   "nbconvert_exporter": "python",
   "pygments_lexer": "ipython3",
   "version": "3.11.7"
  }
 },
 "nbformat": 4,
 "nbformat_minor": 5
}
