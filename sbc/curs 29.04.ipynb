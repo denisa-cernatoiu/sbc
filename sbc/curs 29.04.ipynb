{
 "cells": [
  {
   "cell_type": "code",
   "execution_count": 1,
   "id": "8190f890-ce91-41e3-8f24-610fa7ef689a",
   "metadata": {},
   "outputs": [],
   "source": [
    "#db scan"
   ]
  },
  {
   "cell_type": "code",
   "execution_count": 2,
   "id": "91e66dd8-64d8-4370-a561-09281b5ecdea",
   "metadata": {},
   "outputs": [],
   "source": [
    "import pandas as pd\n",
    "from sklearn.cluster import DBSCAN\n",
    "from sklearn.preprocessing import StandardScaler, LabelEncoder\n",
    "import matplotlib.pyplot as plt"
   ]
  },
  {
   "cell_type": "code",
   "execution_count": 6,
   "id": "c7b01f70-8bc1-426f-bab9-a489626c74b3",
   "metadata": {},
   "outputs": [],
   "source": [
    "floricele = pd.read_csv('iris.csv')\n",
    "X = floricele[['sepal.length', 'sepal.width', 'petal.length', 'petal.width']]\n",
    "y_adev = floricele['variety']"
   ]
  },
  {
   "cell_type": "code",
   "execution_count": 7,
   "id": "b0458935-226f-4fc0-bbf7-891dcc21a6ca",
   "metadata": {},
   "outputs": [],
   "source": [
    "label_encoder = LabelEncoder()\n",
    "y_adev_num = label_encoder.fit_transform(y_adev)"
   ]
  },
  {
   "cell_type": "code",
   "execution_count": 11,
   "id": "f33104eb-436e-49db-99e1-24c59bfb78f5",
   "metadata": {},
   "outputs": [],
   "source": [
    "# standardizare = le fortam sa semene cu o gausiana \n",
    "scaler = StandardScaler()\n",
    "X_scalat = scaler.fit_transform(X)\n",
    "floricele_scalat = pd.DataFrame(X_scalat, columns = X.columns)"
   ]
  },
  {
   "cell_type": "code",
   "execution_count": 12,
   "id": "bd8e6162-0ed3-4d98-ae0b-3aa0ece34954",
   "metadata": {},
   "outputs": [
    {
     "data": {
      "text/html": [
       "<div>\n",
       "<style scoped>\n",
       "    .dataframe tbody tr th:only-of-type {\n",
       "        vertical-align: middle;\n",
       "    }\n",
       "\n",
       "    .dataframe tbody tr th {\n",
       "        vertical-align: top;\n",
       "    }\n",
       "\n",
       "    .dataframe thead th {\n",
       "        text-align: right;\n",
       "    }\n",
       "</style>\n",
       "<table border=\"1\" class=\"dataframe\">\n",
       "  <thead>\n",
       "    <tr style=\"text-align: right;\">\n",
       "      <th></th>\n",
       "      <th>sepal.length</th>\n",
       "      <th>sepal.width</th>\n",
       "      <th>petal.length</th>\n",
       "      <th>petal.width</th>\n",
       "    </tr>\n",
       "  </thead>\n",
       "  <tbody>\n",
       "    <tr>\n",
       "      <th>0</th>\n",
       "      <td>-0.900681</td>\n",
       "      <td>1.019004</td>\n",
       "      <td>-1.340227</td>\n",
       "      <td>-1.315444</td>\n",
       "    </tr>\n",
       "    <tr>\n",
       "      <th>1</th>\n",
       "      <td>-1.143017</td>\n",
       "      <td>-0.131979</td>\n",
       "      <td>-1.340227</td>\n",
       "      <td>-1.315444</td>\n",
       "    </tr>\n",
       "    <tr>\n",
       "      <th>2</th>\n",
       "      <td>-1.385353</td>\n",
       "      <td>0.328414</td>\n",
       "      <td>-1.397064</td>\n",
       "      <td>-1.315444</td>\n",
       "    </tr>\n",
       "    <tr>\n",
       "      <th>3</th>\n",
       "      <td>-1.506521</td>\n",
       "      <td>0.098217</td>\n",
       "      <td>-1.283389</td>\n",
       "      <td>-1.315444</td>\n",
       "    </tr>\n",
       "    <tr>\n",
       "      <th>4</th>\n",
       "      <td>-1.021849</td>\n",
       "      <td>1.249201</td>\n",
       "      <td>-1.340227</td>\n",
       "      <td>-1.315444</td>\n",
       "    </tr>\n",
       "  </tbody>\n",
       "</table>\n",
       "</div>"
      ],
      "text/plain": [
       "   sepal.length  sepal.width  petal.length  petal.width\n",
       "0     -0.900681     1.019004     -1.340227    -1.315444\n",
       "1     -1.143017    -0.131979     -1.340227    -1.315444\n",
       "2     -1.385353     0.328414     -1.397064    -1.315444\n",
       "3     -1.506521     0.098217     -1.283389    -1.315444\n",
       "4     -1.021849     1.249201     -1.340227    -1.315444"
      ]
     },
     "execution_count": 12,
     "metadata": {},
     "output_type": "execute_result"
    }
   ],
   "source": [
    "floricele_scalat.head()"
   ]
  },
  {
   "cell_type": "code",
   "execution_count": 14,
   "id": "a256e4b8-dc7e-4996-87d8-5d9145ed4e70",
   "metadata": {},
   "outputs": [],
   "source": [
    "dbscan = DBSCAN(eps = 0.5, min_samples = 5)\n",
    "# raza de 0.5, nr min de vecini pt a fi centroid = 5"
   ]
  },
  {
   "cell_type": "code",
   "execution_count": 16,
   "id": "89f2d6f8-121e-4c5a-891b-433f765dcb6f",
   "metadata": {},
   "outputs": [],
   "source": [
    "dbscan_etichete = dbscan.fit_predict(X_scalat)"
   ]
  },
  {
   "cell_type": "code",
   "execution_count": 18,
   "id": "7e726a1e-b9c8-4b31-822d-73d76ac300df",
   "metadata": {},
   "outputs": [
    {
     "data": {
      "text/plain": [
       "array([ 0,  0,  0,  0,  0,  0,  0,  0,  0,  0,  0,  0,  0,  0, -1, -1,  0,\n",
       "        0,  0,  0,  0,  0,  0,  0,  0,  0,  0,  0,  0,  0,  0,  0, -1, -1,\n",
       "        0,  0,  0,  0,  0,  0,  0, -1,  0,  0,  0,  0,  0,  0,  0,  0,  1,\n",
       "        1,  1,  1,  1,  1, -1, -1,  1, -1, -1,  1, -1,  1,  1,  1,  1,  1,\n",
       "       -1,  1,  1,  1, -1,  1,  1,  1,  1,  1,  1,  1,  1,  1,  1,  1,  1,\n",
       "       -1,  1, -1,  1,  1,  1,  1,  1, -1,  1,  1,  1,  1, -1,  1, -1,  1,\n",
       "        1,  1,  1, -1, -1, -1, -1, -1,  1,  1,  1,  1, -1,  1,  1, -1, -1,\n",
       "       -1,  1,  1, -1,  1,  1, -1,  1,  1,  1, -1, -1, -1,  1,  1,  1, -1,\n",
       "       -1,  1,  1,  1,  1,  1,  1,  1,  1,  1,  1,  1, -1,  1],\n",
       "      dtype=int64)"
      ]
     },
     "execution_count": 18,
     "metadata": {},
     "output_type": "execute_result"
    }
   ],
   "source": [
    "dbscan_etichete\n",
    "# -1 reprezinta noise"
   ]
  },
  {
   "cell_type": "code",
   "execution_count": 20,
   "id": "10b70c30-c8ec-4ad4-ab5a-996b6d2fa79d",
   "metadata": {},
   "outputs": [
    {
     "data": {
      "text/plain": [
       "Text(0, 0.5, 'Sepal width (scalat)')"
      ]
     },
     "execution_count": 20,
     "metadata": {},
     "output_type": "execute_result"
    },
    {
     "data": {
      "image/png": "[encoded data removed]",
      "text/plain": [
       "<Figure size 1000x600 with 1 Axes>"
      ]
     },
     "metadata": {},
     "output_type": "display_data"
    }
   ],
   "source": [
    "plt.figure(figsize = (10,6))\n",
    "plt.scatter(X_scalat[:,0], X_scalat[:,1], c = dbscan_etichete, cmap = 'viridis')\n",
    "plt.title('Clustering cu DBSCAN')\n",
    "plt.xlabel('Sepal Length (scalat)')\n",
    "plt.ylabel('Sepal width (scalat)')"
   ]
  },
  {
   "cell_type": "code",
   "execution_count": 21,
   "id": "472f6b9b-bf6b-4abd-a6b2-63bf1bcfa905",
   "metadata": {},
   "outputs": [],
   "source": [
    "# evaluare\n",
    "from sklearn.metrics import silhouette_score, calinski_harabasz_score, adjusted_rand_score"
   ]
  },
  {
   "cell_type": "code",
   "execution_count": 26,
   "id": "84c1fe81-7857-4494-ae86-f29ebe3fe5f9",
   "metadata": {},
   "outputs": [],
   "source": [
    "dbscan_non_noise = (dbscan_etichete != 1)"
   ]
  },
  {
   "cell_type": "code",
   "execution_count": 27,
   "id": "51977069-dc95-4a81-8ef4-cdc9206ad2ca",
   "metadata": {},
   "outputs": [],
   "source": [
    "dbscan_silhouette = silhouette_score(X_scalat[dbscan_non_noise], dbscan_etichete[dbscan_non_noise])"
   ]
  },
  {
   "cell_type": "code",
   "execution_count": 28,
   "id": "40265682-dab8-4827-9e56-15510fb0d76d",
   "metadata": {},
   "outputs": [
    {
     "data": {
      "text/plain": [
       "0.5003349350890197"
      ]
     },
     "execution_count": 28,
     "metadata": {},
     "output_type": "execute_result"
    }
   ],
   "source": [
    "dbscan_silhouette"
   ]
  },
  {
   "cell_type": "code",
   "execution_count": null,
   "id": "53e120de-2018-4e01-9c86-fb0f8d81dafb",
   "metadata": {},
   "outputs": [],
   "source": []
  }
 ],
 "metadata": {
  "kernelspec": {
   "display_name": "Python 3 (ipykernel)",
   "language": "python",
   "name": "python3"
  },
  "language_info": {
   "codemirror_mode": {
    "name": "ipython",
    "version": 3
   },
   "file_extension": ".py",
   "mimetype": "text/x-python",
   "name": "python",
   "nbconvert_exporter": "python",
   "pygments_lexer": "ipython3",
   "version": "3.11.7"
  }
 },
 "nbformat": 4,
 "nbformat_minor": 5
}
