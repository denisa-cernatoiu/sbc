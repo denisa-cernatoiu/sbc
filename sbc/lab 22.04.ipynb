{
 "cells": [
  {
   "cell_type": "code",
   "execution_count": 1,
   "id": "71b5ddef-f7aa-4ccb-ad87-3fb177ed95c3",
   "metadata": {},
   "outputs": [
    {
     "ename": "ModuleNotFoundError",
     "evalue": "No module named 'xgboost'",
     "output_type": "error",
     "traceback": [
      "\u001b[1;31m---------------------------------------------------------------------------\u001b[0m",
      "\u001b[1;31mModuleNotFoundError\u001b[0m                       Traceback (most recent call last)",
      "Cell \u001b[1;32mIn[1], line 2\u001b[0m\n\u001b[0;32m      1\u001b[0m \u001b[38;5;66;03m# un exemplu cu XGBoost Classifier\u001b[39;00m\n\u001b[1;32m----> 2\u001b[0m \u001b[38;5;28;01mfrom\u001b[39;00m \u001b[38;5;21;01mxgboost\u001b[39;00m \u001b[38;5;28;01mimport\u001b[39;00m XGBClassifier\n",
      "\u001b[1;31mModuleNotFoundError\u001b[0m: No module named 'xgboost'"
     ]
    }
   ],
   "source": [
    "# un exemplu cu XGBoost Classifier\n",
    "from xgboost import XGBClassifier"
   ]
  },
  {
   "cell_type": "code",
   "execution_count": 18,
   "id": "366115a6-d78d-4473-90cd-4189b5ea2717",
   "metadata": {},
   "outputs": [],
   "source": [
    "import pandas as pd\n",
    "import numpy as np\n",
    "from sklearn.model_selection import train_test_split\n",
    "from sklearn.linear_model import LogisticRegression\n",
    "from sklearn.svm import SVC\n",
    "from sklearn.neighbors import KNeighborsClassifier\n",
    "from sklearn.tree import DecisionTreeClassifier\n",
    "from sklearn.ensemble import RandomForestClassifier\n",
    "from sklearn.metrics import accuracy_score\n",
    "import joblib #pentru salvarea (serializarea) modelului\n",
    "from sklearn import preprocessing"
   ]
  },
  {
   "cell_type": "code",
   "execution_count": 21,
   "id": "e2806765-3e1e-4123-a023-219371dd000e",
   "metadata": {},
   "outputs": [],
   "source": [
    "floricele = pd.read_csv('iris.csv')\n",
    "X = floricele.drop('variety', axis = 1)\n",
    "y = floricele['variety']\n",
    "label_encoder = preprocessing.LabelEncoder()\n",
    "y = label_encoder.fit_transform(y)\n",
    "X_train, X_test, y_train, y_test = train_test_split(X, y, test_size = 0.2, random_state = 42)"
   ]
  },
  {
   "cell_type": "code",
   "execution_count": 22,
   "id": "e30aef6f-6a49-45c8-b792-79ac7069f1b3",
   "metadata": {},
   "outputs": [],
   "source": [
    "clasificatori = {\n",
    "    'Logistic Regression': LogisticRegression(),\n",
    "    'SVM' : SVC(),\n",
    "    'KNN' : KNeighborsClassifier(),\n",
    "    'Decision Tree' : DecisionTreeClassifier(),\n",
    "    'RandomForest' : RandomForestClassifier(),\n",
    "}    "
   ]
  },
  {
   "cell_type": "code",
   "execution_count": 23,
   "id": "36fcb57c-bdf7-4e23-a538-795f4a136cde",
   "metadata": {},
   "outputs": [],
   "source": [
    "#dictionar pt memorarea modelelor antrenate\n",
    "modele_antrenate = {}"
   ]
  },
  {
   "cell_type": "code",
   "execution_count": 24,
   "id": "9930b800-c35e-48fb-b510-1c125c6eda2a",
   "metadata": {},
   "outputs": [
    {
     "ename": "NameError",
     "evalue": "name 'XGClassifier' is not defined",
     "output_type": "error",
     "traceback": [
      "\u001b[1;31m---------------------------------------------------------------------------\u001b[0m",
      "\u001b[1;31mNameError\u001b[0m                                 Traceback (most recent call last)",
      "Cell \u001b[1;32mIn[24], line 2\u001b[0m\n\u001b[0;32m      1\u001b[0m \u001b[38;5;28;01mfor\u001b[39;00m nume_clasif, clasif \u001b[38;5;129;01min\u001b[39;00m clasificatori\u001b[38;5;241m.\u001b[39mitems():\n\u001b[1;32m----> 2\u001b[0m     model \u001b[38;5;241m=\u001b[39m XGClassifier(base_estimators \u001b[38;5;241m=\u001b[39m clasif)\n\u001b[0;32m      3\u001b[0m     model\u001b[38;5;241m.\u001b[39mfit(X_train, y_train)\n\u001b[0;32m      4\u001b[0m     \u001b[38;5;66;03m#salvare model in dictionar\u001b[39;00m\n",
      "\u001b[1;31mNameError\u001b[0m: name 'XGClassifier' is not defined"
     ]
    }
   ],
   "source": [
    "for nume_clasif, clasif in clasificatori.items():\n",
    "    model = XGClassifier(base_estimators = clasif)\n",
    "    model.fit(X_train, y_train)\n",
    "    #salvare model in dictionar\n",
    "    modele_antrenate[nume.clasif] = model\n",
    "    y_pred = model.predict(X_test)\n",
    "    acuratetea = accuracy_score(y_test, y_pred)\n",
    "    print(f'{nume_clasif} acuratetea: {accuracy_score}')"
   ]
  },
  {
   "cell_type": "code",
   "execution_count": null,
   "id": "be924faa-b2a0-492a-8270-6f190382ce0d",
   "metadata": {},
   "outputs": [],
   "source": [
    "# nu functioneaza decat cu decision tree deoarece XGB nu mai are base_estimators"
   ]
  },
  {
   "cell_type": "code",
   "execution_count": null,
   "id": "e39e9ee4-5e4a-41bc-bff3-b1a6ff0a7a85",
   "metadata": {},
   "outputs": [],
   "source": []
  },
  {
   "cell_type": "code",
   "execution_count": null,
   "id": "8474dc7a-a2ce-4f18-87e7-8230d0e601db",
   "metadata": {},
   "outputs": [],
   "source": []
  }
 ],
 "metadata": {
  "kernelspec": {
   "display_name": "Python 3 (ipykernel)",
   "language": "python",
   "name": "python3"
  },
  "language_info": {
   "codemirror_mode": {
    "name": "ipython",
    "version": 3
   },
   "file_extension": ".py",
   "mimetype": "text/x-python",
   "name": "python",
   "nbconvert_exporter": "python",
   "pygments_lexer": "ipython3",
   "version": "3.11.7"
  }
 },
 "nbformat": 4,
 "nbformat_minor": 5
}
