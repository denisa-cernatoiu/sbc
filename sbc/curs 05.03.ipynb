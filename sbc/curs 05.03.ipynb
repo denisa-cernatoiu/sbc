{
 "cells": [
  {
   "cell_type": "code",
   "execution_count": 16,
   "id": "3dd02e8d-21cc-4485-abff-eef1a136cc66",
   "metadata": {},
   "outputs": [],
   "source": [
    "from sklearn.datasets import load_iris\n",
    "import numpy as np\n",
    "from sklearn.model_selection import train_test_split"
   ]
  },
  {
   "cell_type": "code",
   "execution_count": 17,
   "id": "4a6ee515-d4e0-4f89-b0af-51809f99ea99",
   "metadata": {},
   "outputs": [],
   "source": [
    "# flori = load_iris()"
   ]
  },
  {
   "cell_type": "code",
   "execution_count": 18,
   "id": "a485bddb-6e08-4abc-a7ed-302bab94e3d8",
   "metadata": {},
   "outputs": [],
   "source": [
    "X = flori.data\n",
    "y = flori.target #etichetele"
   ]
  },
  {
   "cell_type": "code",
   "execution_count": 19,
   "id": "8ef882c9-0c67-4f10-b2de-5dbcbb99ff31",
   "metadata": {},
   "outputs": [],
   "source": [
    "#formam un tuplu cu setul de antrenament\n",
    "X_train, X_test, y_train, y_test = train_test_split(X, y, test_size = 0.2, random_state = 42)"
   ]
  },
  {
   "cell_type": "code",
   "execution_count": 20,
   "id": "8990f2f6-09f3-4a39-9d4f-dd2a69c25ffb",
   "metadata": {},
   "outputs": [
    {
     "data": {
      "text/plain": [
       "120"
      ]
     },
     "execution_count": 20,
     "metadata": {},
     "output_type": "execute_result"
    }
   ],
   "source": [
    "len(X_train) #nr de etichete"
   ]
  },
  {
   "cell_type": "code",
   "execution_count": 24,
   "id": "0f22c66d-7f7c-49a5-8585-6a810ffc029a",
   "metadata": {},
   "outputs": [],
   "source": [
    "from sklearn.neighbors import KNeighborsClassifier"
   ]
  },
  {
   "cell_type": "code",
   "execution_count": 25,
   "id": "efb6f05b-62ff-4bd1-b4af-7f5cc1fede0b",
   "metadata": {},
   "outputs": [],
   "source": [
    "from sklearn import metrics"
   ]
  },
  {
   "cell_type": "code",
   "execution_count": 35,
   "id": "4e5ccf04-6c43-4dfc-b66c-76a3c3048f60",
   "metadata": {},
   "outputs": [
    {
     "ename": "NameError",
     "evalue": "name 'metrics_accuracy_source' is not defined",
     "output_type": "error",
     "traceback": [
      "\u001b[1;31m---------------------------------------------------------------------------\u001b[0m",
      "\u001b[1;31mNameError\u001b[0m                                 Traceback (most recent call last)",
      "Cell \u001b[1;32mIn[35], line 12\u001b[0m\n\u001b[0;32m     10\u001b[0m y_pred \u001b[38;5;241m=\u001b[39m knn\u001b[38;5;241m.\u001b[39mpredict(X_test)\n\u001b[0;32m     11\u001b[0m scoruri[k] \u001b[38;5;241m=\u001b[39m (y_test, y_pred)\n\u001b[1;32m---> 12\u001b[0m scoruri_lista\u001b[38;5;241m.\u001b[39mappend(metrics_accuracy_source(y_test, y_pred))\n",
      "\u001b[1;31mNameError\u001b[0m: name 'metrics_accuracy_source' is not defined"
     ]
    }
   ],
   "source": [
    "# tunning pentru k\n",
    "\n",
    "k_range = range(1, 26) # 25 de valori de la 1 la 25\n",
    "scoruri = {} #dictionar de tuple cu key = \n",
    "scoruri_lista = []\n",
    "\n",
    "for k in k_range:\n",
    "    knn = KNeighborsClassifier(n_neighbors = k) #kNeighboursClassifier e un constructor\n",
    "    knn.fit(X_train, y_train)\n",
    "    y_pred = knn.predict(X_test)\n",
    "    scoruri[k] = (y_test, y_pred)\n",
    "    scoruri_lista.append(metrics.accuracy_source(y_test, y_pred)) #append pune in capatul listei ultima valoare"
   ]
  },
  {
   "cell_type": "code",
   "execution_count": 27,
   "id": "dbf9aca5-834f-43db-b881-d6f0c6bae41a",
   "metadata": {},
   "outputs": [
    {
     "ename": "TypeError",
     "evalue": "KNeighborsClassifier.fit() missing 2 required positional arguments: 'X' and 'y'",
     "output_type": "error",
     "traceback": [
      "\u001b[1;31m---------------------------------------------------------------------------\u001b[0m",
      "\u001b[1;31mTypeError\u001b[0m                                 Traceback (most recent call last)",
      "Cell \u001b[1;32mIn[27], line 4\u001b[0m\n\u001b[0;32m      1\u001b[0m \u001b[38;5;66;03m#aleg k = 5\u001b[39;00m\n\u001b[0;32m      3\u001b[0m knn \u001b[38;5;241m=\u001b[39m KNeighborsClassifier(n_neighbors \u001b[38;5;241m=\u001b[39m \u001b[38;5;241m5\u001b[39m)\n\u001b[1;32m----> 4\u001b[0m knn\u001b[38;5;241m.\u001b[39mfit()\n",
      "\u001b[1;31mTypeError\u001b[0m: KNeighborsClassifier.fit() missing 2 required positional arguments: 'X' and 'y'"
     ]
    }
   ],
   "source": [
    "#aleg k = 5\n",
    "\n",
    "knn = KNeighborsClassifier(n_neighbors = 5)\n",
    "knn.fit(X, y)"
   ]
  },
  {
   "cell_type": "code",
   "execution_count": 31,
   "id": "c01ce8f5-d30c-4816-a0bc-df26c8e617eb",
   "metadata": {},
   "outputs": [],
   "source": [
    "# o floare noua\n",
    "X_nou = [[3,4,5,2], [5,4,2,2]] \n",
    "y_predict = knn.predict(X_nou)"
   ]
  },
  {
   "cell_type": "code",
   "execution_count": 34,
   "id": "39214da7-0b72-4a97-8545-6c5875a0a1ba",
   "metadata": {},
   "outputs": [
    {
     "data": {
      "text/plain": [
       "array([2, 0])"
      ]
     },
     "execution_count": 34,
     "metadata": {},
     "output_type": "execute_result"
    }
   ],
   "source": [
    "y_predict"
   ]
  },
  {
   "cell_type": "code",
   "execution_count": 1,
   "id": "e9e147f1-37ef-4277-976a-1ff2898dd640",
   "metadata": {},
   "outputs": [
    {
     "ename": "NameError",
     "evalue": "name 'X_train' is not defined",
     "output_type": "error",
     "traceback": [
      "\u001b[1;31m---------------------------------------------------------------------------\u001b[0m",
      "\u001b[1;31mNameError\u001b[0m                                 Traceback (most recent call last)",
      "Cell \u001b[1;32mIn[1], line 1\u001b[0m\n\u001b[1;32m----> 1\u001b[0m X_train\n",
      "\u001b[1;31mNameError\u001b[0m: name 'X_train' is not defined"
     ]
    }
   ],
   "source": [
    "X_train"
   ]
  },
  {
   "cell_type": "code",
   "execution_count": null,
   "id": "3f86b6a1-2d32-4752-8953-670921228568",
   "metadata": {},
   "outputs": [],
   "source": []
  }
 ],
 "metadata": {
  "kernelspec": {
   "display_name": "Python 3 (ipykernel)",
   "language": "python",
   "name": "python3"
  },
  "language_info": {
   "codemirror_mode": {
    "name": "ipython",
    "version": 3
   },
   "file_extension": ".py",
   "mimetype": "text/x-python",
   "name": "python",
   "nbconvert_exporter": "python",
   "pygments_lexer": "ipython3",
   "version": "3.11.7"
  }
 },
 "nbformat": 4,
 "nbformat_minor": 5
}
